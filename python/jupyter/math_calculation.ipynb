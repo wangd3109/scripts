{
 "cells": [
  {
   "cell_type": "code",
   "execution_count": 6,
   "metadata": {},
   "outputs": [
    {
     "name": "stdout",
     "output_type": "stream",
     "text": [
      "1.3564750552284766\n"
     ]
    }
   ],
   "source": [
    "v=83.64\n",
    "pi=3.1415926\n",
    "\n",
    "r=((83.64*3)/(8*4*pi))**(1./3)\n",
    "print(r)"
   ]
  },
  {
   "cell_type": "code",
   "execution_count": 7,
   "metadata": {},
   "outputs": [
    {
     "name": "stdout",
     "output_type": "stream",
     "text": [
      "83.64\n"
     ]
    }
   ],
   "source": [
    "r0=1.3564750552284766\n",
    "v0=r0**3*pi*4/3*8\n",
    "print(v0)"
   ]
  },
  {
   "cell_type": "code",
   "execution_count": 14,
   "metadata": {},
   "outputs": [
    {
     "name": "stdout",
     "output_type": "stream",
     "text": [
      "[43, 30, 32, 33, 10, 41, 3, 12, 8, 16, 38, 24, 31, 7, 28, 5]\n"
     ]
    }
   ],
   "source": [
    "import random  #生成一组随机数，无重复\n",
    "a=(random.sample([i for i in range(48)],16))\n",
    "print(a)"
   ]
  },
  {
   "cell_type": "code",
   "execution_count": 17,
   "metadata": {},
   "outputs": [
    {
     "name": "stdout",
     "output_type": "stream",
     "text": [
      "[43, 41, 38, 33, 32, 31, 30, 28, 24, 16, 12, 10, 8, 7, 5, 3]\n"
     ]
    }
   ],
   "source": [
    "b=a.sort(reverse=True) #反排序\n",
    "print(a)"
   ]
  },
  {
   "cell_type": "code",
   "execution_count": null,
   "metadata": {},
   "outputs": [],
   "source": []
  }
 ],
 "metadata": {
  "kernelspec": {
   "display_name": "Python 3",
   "language": "python",
   "name": "python3"
  },
  "language_info": {
   "codemirror_mode": {
    "name": "ipython",
    "version": 3
   },
   "file_extension": ".py",
   "mimetype": "text/x-python",
   "name": "python",
   "nbconvert_exporter": "python",
   "pygments_lexer": "ipython3",
   "version": "3.6.1"
  }
 },
 "nbformat": 4,
 "nbformat_minor": 2
}
